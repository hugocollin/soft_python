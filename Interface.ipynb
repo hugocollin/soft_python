{
 "cells": [
  {
   "cell_type": "code",
   "execution_count": 1,
   "metadata": {},
   "outputs": [
    {
     "data": {
      "application/vnd.jupyter.widget-view+json": {
       "model_id": "fbaa5c038b8d40949df6f2ab92caedd7",
       "version_major": 2,
       "version_minor": 0
      },
      "text/plain": [
       "VBox(children=(Label(value='Moteur de recherche Python', layout=Layout(width='max-content')), Text(value='Food…"
      ]
     },
     "metadata": {},
     "output_type": "display_data"
    }
   ],
   "source": [
    "import Main\n",
    "\n",
    "import ipywidgets as widgets\n",
    "from IPython.display import display\n",
    "\n",
    "# Widget pour le titre\n",
    "titre_widget = widgets.Label(\n",
    "    value='Moteur de recherche Python',\n",
    "    layout={'width': 'max-content'},\n",
    ")\n",
    "\n",
    "# Widget pour saisir le topic de la recherche\n",
    "topic_widget = widgets.Text(\n",
    "    value='Food',\n",
    "    description='Sujet',\n",
    ")\n",
    "\n",
    "# Widget pour saisir les mots-clés de la recherche\n",
    "mots_cles_widget = widgets.Text(\n",
    "    value='Food Model Image',\n",
    "    description='Mots clés',\n",
    ")\n",
    "\n",
    "# Widget pour sélectionner le nombre d'articles à extraire\n",
    "nombre_articles_widget = widgets.IntSlider(\n",
    "    value=100,\n",
    "    min=1,\n",
    "    max=1000,\n",
    "    step=1,\n",
    "    description='Nombre d\\'articles à extraire :',\n",
    "    style={'description_width': 'initial'},\n",
    "    layout={'width': '30%'}\n",
    ")\n",
    "\n",
    "# Widget pour choisir la méthode d'affichage des résultats\n",
    "methode_affichage_widget = widgets.RadioButtons(\n",
    "    options=['Pertinence', 'Temporelle', 'Alphabétique'],\n",
    "    description='Méthode d\\'affichage :',\n",
    "    style={'description_width': 'initial'},\n",
    "    layout={'width': 'max-content'}\n",
    ")\n",
    "\n",
    "# Widget pour afficher le résultat de la recherche\n",
    "output = widgets.Output(\n",
    "    layout=widgets.Layout(justify_content='center', max_width='80%')\n",
    ")\n",
    "\n",
    "# Fonction pour récupérer les valeurs des widgets\n",
    "def clique_bouton(change):\n",
    "    output.clear_output() # Effacement des anciens résultats de recherche\n",
    "    global topic, nombre_articles, methode_affichage, mots_cles\n",
    "    topic = topic_widget.value\n",
    "    mots_cles = mots_cles_widget.value\n",
    "    nombre_articles = nombre_articles_widget.value\n",
    "    methode_affichage = methode_affichage_widget.value\n",
    "    \n",
    "    # Appel de la fonction recherche et affichage du résultat de la recherche\n",
    "    with output:\n",
    "        print(Main.recherche(topic, mots_cles, nombre_articles, methode_affichage))\n",
    "\n",
    "# Widget pour lancer la recherche\n",
    "bouton_recherche = widgets.Button(description=\"Rechercher\")\n",
    "bouton_recherche.on_click(clique_bouton)\n",
    "\n",
    "# Affichage du moteur de recherche\n",
    "display(widgets.VBox([titre_widget, topic_widget, mots_cles_widget, nombre_articles_widget, methode_affichage_widget, widgets.HBox([widgets.Label(''), bouton_recherche]), output], layout={'align_items': 'center'}))"
   ]
  }
 ],
 "metadata": {
  "kernelspec": {
   "display_name": "Python",
   "language": "python",
   "name": "python3"
  },
  "language_info": {
   "codemirror_mode": {
    "name": "ipython",
    "version": 3
   },
   "file_extension": ".py",
   "mimetype": "text/x-python",
   "name": "python",
   "nbconvert_exporter": "python",
   "pygments_lexer": "ipython3",
   "version": "3.11.5"
  }
 },
 "nbformat": 4,
 "nbformat_minor": 2
}
