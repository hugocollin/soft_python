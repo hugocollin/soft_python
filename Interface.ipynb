{
 "cells": [
  {
   "cell_type": "code",
   "execution_count": 1,
   "metadata": {},
   "outputs": [
    {
     "data": {
      "application/vnd.jupyter.widget-view+json": {
       "model_id": "b54a905653274f17b6950cd391776371",
       "version_major": 2,
       "version_minor": 0
      },
      "text/plain": [
       "VBox(children=(Text(value='Space', description='🔍'), IntSlider(value=5, description=\"Nombre d'articles à extra…"
      ]
     },
     "metadata": {},
     "output_type": "display_data"
    },
    {
     "name": "stderr",
     "output_type": "stream",
     "text": [
      "It appears that you are using PRAW in an asynchronous environment.\n",
      "It is strongly recommended to use Async PRAW: https://asyncpraw.readthedocs.io.\n",
      "See https://praw.readthedocs.io/en/latest/getting_started/multiple_instances.html#discord-bots-and-asynchronous-environments for more info.\n",
      "\n",
      "It appears that you are using PRAW in an asynchronous environment.\n",
      "It is strongly recommended to use Async PRAW: https://asyncpraw.readthedocs.io.\n",
      "See https://praw.readthedocs.io/en/latest/getting_started/multiple_instances.html#discord-bots-and-asynchronous-environments for more info.\n",
      "\n"
     ]
    },
    {
     "name": "stdout",
     "output_type": "stream",
     "text": [
      "Document 0 :\t# Nombre de caractères : 102\t# Nombre de mots : 15\t# Nombre de phrases : 1\n",
      "Document 1 :\t# Nombre de caractères : 330\t# Nombre de mots : 50\t# Nombre de phrases : 5\n",
      "Document 2 :\t# Nombre de caractères : 129\t# Nombre de mots : 23\t# Nombre de phrases : 2\n",
      "Document 3 :\t# Nombre de caractères : 441\t# Nombre de mots : 74\t# Nombre de phrases : 5\n",
      "Document 4 :\t# Nombre de caractères : 522\t# Nombre de mots : 74\t# Nombre de phrases : 7\n",
      "Nombre de mots différents dans le corpus : 82\n",
      "Les 10 mots les plus fréquents dans le corpus :\n",
      "          Term Frequency  Document Frequency\n",
      "space                  9                   4\n",
      "question               4                   1\n",
      "bair                   4                   1\n",
      "strong                 3                   1\n",
      "repres                 3                   1\n",
      "pleas                  2                   1\n",
      "relat                  2                   1\n",
      "notion                 2                   2\n",
      "special                2                   1\n",
      "basic                  2                   1\n",
      "\n",
      "\n",
      "Titre : Admissibly Represented Spaces and Qcb-Spaces\n",
      "Auteur : \n",
      "Date : 2020/04/20\n",
      "URL : http://arxiv.org/abs/2004.09450v1\n",
      "Texte : A basic concept of Type Two Theory of Effectivity (TTE) is the notion of anadmissibly represented space. Admissibly represented spaces are closely relatedto qcb-spaces. The latter form a well-behaved subclass of topological spaces.We give a survey of basic facts about Type Two Theory of Effectivity,admissibly represented spaces, qcb-spaces and effective qcb-spaces. Moreover,we discuss the relationship of qcb-spaces to other categories relevant toComputable Analysis.\n",
      "Source : Arxiv\t\n",
      "Co-auteurs : []\t\n",
      "\n",
      "\n",
      "Titre : All Space Questions thread for week of December 31, 2023\n",
      "Auteur : AutoModerator\n",
      "Date : 2023/12/31\n",
      "URL : https://www.reddit.com//r/space/comments/18vbycl/all_space_questions_thread_for_week_of_december/\n",
      "Texte : Please sort comments by 'new' to find questions that would otherwise be buried.In this thread you can ask any space related question that you may have.Two examples of potential questions could be; \"How do rockets work?\", or \"How do the phases of the Moon work?\"If you see a space related question posted in another subreddit or in this subreddit, then please politely link them to this thread.&#x200B;Ask away!\n",
      "Source : Reddit\t\n",
      "Nombre de commentaires : 1\t\n",
      "\n",
      "\n",
      "Titre : Namioka spaces and strongly Baire spaces\n",
      "Auteur : \n",
      "Date : 2016/01/22\n",
      "URL : http://arxiv.org/abs/1601.05884v1\n",
      "Texte : A notion of strongly Baire space is introduced. Its definition is atransfinite development of some equivalent reformulation of the Baire spacedefinition. It is shown that every strongly Baire space is a Namioka space andevery $\\beta-\\sigma$-unfavorable space is a strongly Baire space.\n",
      "Source : Arxiv\t\n",
      "Co-auteurs : []\t\n",
      "\n",
      "\n",
      "Titre : Navajo Nation’s objection to landing human remains on the moon prompts last-minute White House meeting\n",
      "Auteur : Afrin_Drip\n",
      "Date : 2024/01/05\n",
      "URL : https://www.reddit.com//r/space/comments/18zi7n9/navajo_nations_objection_to_landing_human_remains/\n",
      "Texte : \n",
      "Source : Reddit\t\n",
      "Nombre de commentaires : 1\t\n"
     ]
    }
   ],
   "source": [
    "import Main\n",
    "\n",
    "import ipywidgets as widgets        # Importation de la bibliothèque ipywidgets, afin de créer des composants interactifs\n",
    "from IPython.display import display # Importation de la bibliothèque IPython.display, afin d'afficher des objets à l'intérieur d'une cellule d'un notebook Python\n",
    "\n",
    "# Widget texte pour saisir le mot-clé de recherche\n",
    "recherche_widget = widgets.Text(\n",
    "    value='Space',    # Valeur par défaut du texte\n",
    "    description='🔍' # Description affichée à côté du widget\n",
    ")\n",
    "\n",
    "# Widget curseur pour sélectionner le nombre d'articles à extraire\n",
    "nombre_articles_widget = widgets.IntSlider(\n",
    "    value=5,                                     # Valeur par défaut du curseur\n",
    "    min=1,                                         # Valeur minimale autorisée\n",
    "    max=1000,                                      # Valeur maximale autorisée\n",
    "    step=1,                                        # Incréments du curseur\n",
    "    description='Nombre d\\'articles à extraire :', # Description affichée à côté du widget\n",
    "    style={'description_width': 'initial'},        # Style pour la largeur de la description\n",
    "    layout={'width': '30%'}                        # Ajustement de la largeur du curseur\n",
    ")\n",
    "\n",
    "# Fonction pour récupérer les valeurs des widgets\n",
    "def clique_bouton(change):\n",
    "    global recherche, nombre_articles\n",
    "    recherche = recherche_widget.value              # Récupération du texte saisi dans la barre de recherche\n",
    "    nombre_articles = nombre_articles_widget.value  # Récupération du nombre d'articles à extraire\n",
    "    Main.recherche(recherche, nombre_articles)      # Appel de la fonction recherche de Main.py\n",
    "\n",
    "# Widget bouton pour lancer la recherche\n",
    "bouton_recherche = widgets.Button(description=\"Rechercher\") # Création d'un widget bouton avec le texte \"Rechercher\" affiché dessus\n",
    "bouton_recherche.on_click(clique_bouton)                    # Association d'une fonction spécifique à exécuter lorsque le bouton est cliqué\n",
    "\n",
    "# Affichage des widgets et du bouton\n",
    "display(widgets.VBox([recherche_widget, nombre_articles_widget, widgets.HBox([widgets.Label(''), bouton_recherche])], layout={'align_items': 'center'}))"
   ]
  }
 ],
 "metadata": {
  "kernelspec": {
   "display_name": "Python",
   "language": "python",
   "name": "python3"
  },
  "language_info": {
   "codemirror_mode": {
    "name": "ipython",
    "version": 3
   },
   "file_extension": ".py",
   "mimetype": "text/x-python",
   "name": "python",
   "nbconvert_exporter": "python",
   "pygments_lexer": "ipython3",
   "version": "3.11.5"
  }
 },
 "nbformat": 4,
 "nbformat_minor": 2
}
