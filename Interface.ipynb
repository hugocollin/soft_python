{
 "cells": [
  {
   "cell_type": "code",
   "execution_count": 1,
   "metadata": {},
   "outputs": [
    {
     "data": {
      "application/vnd.jupyter.widget-view+json": {
       "model_id": "0ac88fc7f9df48589fc4c185c7be1e6c",
       "version_major": 2,
       "version_minor": 0
      },
      "text/plain": [
       "VBox(children=(Label(value='Moteur de recherche Python', layout=Layout(width='max-content')), Text(value='Spac…"
      ]
     },
     "metadata": {},
     "output_type": "display_data"
    }
   ],
   "source": [
    "import Main\n",
    "\n",
    "import ipywidgets as widgets             # Importation de la bibliothèque ipywidgets, afin de créer des composants interactifs\n",
    "from IPython.display import display      # Importation de la bibliothèque IPython.display, afin d'afficher des objets à l'intérieur d'une cellule d'un notebook Python\n",
    "\n",
    "# Widget Label pour le titre\n",
    "titre_widget = widgets.Label(\n",
    "    value='Moteur de recherche Python', # Texte du titre\n",
    "    layout={'width': 'max-content'},    # Ajustement de la largeur du titre\n",
    ")\n",
    "\n",
    "# Widget texte pour saisir le mot-clé de recherche\n",
    "recherche_widget = widgets.Text(\n",
    "    value='Space',    # Valeur par défaut du texte\n",
    "    description='🔍', # Description affichée à côté du widget\n",
    ")\n",
    "\n",
    "# Widget curseur pour sélectionner le nombre d'articles à extraire\n",
    "nombre_articles_widget = widgets.IntSlider(\n",
    "    value=100,                                     # Valeur par défaut du curseur\n",
    "    min=1,                                         # Valeur minimale autorisée\n",
    "    max=1000,                                      # Valeur maximale autorisée\n",
    "    step=1,                                        # Incréments du curseur\n",
    "    description='Nombre d\\'articles à extraire :', # Description affichée à côté du widget\n",
    "    style={'description_width': 'initial'},        # Style pour la largeur de la description\n",
    "    layout={'width': '30%'}                        # Ajustement de la largeur du curseur\n",
    ")\n",
    "\n",
    "# Widget pour choisir la méthode d'affichage des résultats\n",
    "methode_affichage_widget = widgets.RadioButtons(\n",
    "    options=['Pertinence', 'Temporelle', 'Alphabétique'],\n",
    "    description='Méthode d\\'affichage :',\n",
    "    style={'description_width': 'initial'},\n",
    "    layout={'width': 'max-content'}\n",
    ")\n",
    "\n",
    "# Widget Output pour afficher le résultat de la recherche\n",
    "output = widgets.Output(\n",
    "    layout=widgets.Layout(justify_content='center', max_width='80%')\n",
    ")\n",
    "\n",
    "# Fonction pour récupérer les valeurs des widgets\n",
    "def clique_bouton(change):\n",
    "    output.clear_output()                                         # Effacer la sortie précédente de la recherche\n",
    "    global recherche, nombre_articles, methode_affichage\n",
    "    recherche = recherche_widget.value                            # Récupération du texte saisi dans la barre de recherche\n",
    "    nombre_articles = nombre_articles_widget.value                # Récupération du nombre d'articles à extraire\n",
    "    methode_affichage = methode_affichage_widget.value            # Récupération de la méthode d'affichage choisie\n",
    "\n",
    "    # Appeler la fonction recherche et afficher le résultat dans le widget Output\n",
    "    with output:\n",
    "        print(Main.recherche(recherche, nombre_articles, methode_affichage))\n",
    "\n",
    "# Widget bouton pour lancer la recherche\n",
    "bouton_recherche = widgets.Button(description=\"Rechercher\") # Création d'un widget bouton avec le texte \"Rechercher\" affiché dessus\n",
    "bouton_recherche.on_click(clique_bouton)                    # Association d'une fonction spécifique à exécuter lorsque le bouton est cliqué\n",
    "\n",
    "# Affichage du moteur de recherche\n",
    "display(widgets.VBox([titre_widget, recherche_widget, nombre_articles_widget, methode_affichage_widget, widgets.HBox([widgets.Label(''), bouton_recherche]), output], layout={'align_items': 'center'}))"
   ]
  }
 ],
 "metadata": {
  "kernelspec": {
   "display_name": "Python",
   "language": "python",
   "name": "python3"
  },
  "language_info": {
   "codemirror_mode": {
    "name": "ipython",
    "version": 3
   },
   "file_extension": ".py",
   "mimetype": "text/x-python",
   "name": "python",
   "nbconvert_exporter": "python",
   "pygments_lexer": "ipython3",
   "version": "3.11.5"
  }
 },
 "nbformat": 4,
 "nbformat_minor": 2
}
